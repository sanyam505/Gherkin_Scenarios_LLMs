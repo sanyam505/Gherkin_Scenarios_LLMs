{
 "cells": [
  {
   "cell_type": "code",
   "execution_count": 1,
   "id": "8f01c719",
   "metadata": {},
   "outputs": [
    {
     "name": "stdout",
     "output_type": "stream",
     "text": [
      "Requirement already satisfied: langchain in c:\\users\\sanya\\anaconda3\\lib\\site-packages (0.0.286)\n",
      "Requirement already satisfied: PyYAML>=5.3 in c:\\users\\sanya\\anaconda3\\lib\\site-packages (from langchain) (6.0)\n",
      "Requirement already satisfied: SQLAlchemy<3,>=1.4 in c:\\users\\sanya\\anaconda3\\lib\\site-packages (from langchain) (1.4.39)\n",
      "Requirement already satisfied: aiohttp<4.0.0,>=3.8.3 in c:\\users\\sanya\\anaconda3\\lib\\site-packages (from langchain) (3.8.5)\n",
      "Requirement already satisfied: dataclasses-json<0.6.0,>=0.5.7 in c:\\users\\sanya\\anaconda3\\lib\\site-packages (from langchain) (0.5.14)\n",
      "Requirement already satisfied: langsmith<0.1.0,>=0.0.21 in c:\\users\\sanya\\anaconda3\\lib\\site-packages (from langchain) (0.0.35)\n",
      "Requirement already satisfied: numexpr<3.0.0,>=2.8.4 in c:\\users\\sanya\\anaconda3\\lib\\site-packages (from langchain) (2.8.4)\n",
      "Requirement already satisfied: numpy<2,>=1 in c:\\users\\sanya\\anaconda3\\lib\\site-packages (from langchain) (1.24.3)\n",
      "Requirement already satisfied: pydantic<3,>=1 in c:\\users\\sanya\\anaconda3\\lib\\site-packages (from langchain) (2.3.0)\n",
      "Requirement already satisfied: requests<3,>=2 in c:\\users\\sanya\\anaconda3\\lib\\site-packages (from langchain) (2.31.0)\n",
      "Requirement already satisfied: tenacity<9.0.0,>=8.1.0 in c:\\users\\sanya\\anaconda3\\lib\\site-packages (from langchain) (8.2.2)\n",
      "Requirement already satisfied: attrs>=17.3.0 in c:\\users\\sanya\\anaconda3\\lib\\site-packages (from aiohttp<4.0.0,>=3.8.3->langchain) (22.1.0)\n",
      "Requirement already satisfied: charset-normalizer<4.0,>=2.0 in c:\\users\\sanya\\anaconda3\\lib\\site-packages (from aiohttp<4.0.0,>=3.8.3->langchain) (2.0.4)\n",
      "Requirement already satisfied: multidict<7.0,>=4.5 in c:\\users\\sanya\\anaconda3\\lib\\site-packages (from aiohttp<4.0.0,>=3.8.3->langchain) (6.0.2)\n",
      "Requirement already satisfied: async-timeout<5.0,>=4.0.0a3 in c:\\users\\sanya\\anaconda3\\lib\\site-packages (from aiohttp<4.0.0,>=3.8.3->langchain) (4.0.2)\n",
      "Requirement already satisfied: yarl<2.0,>=1.0 in c:\\users\\sanya\\anaconda3\\lib\\site-packages (from aiohttp<4.0.0,>=3.8.3->langchain) (1.8.1)\n",
      "Requirement already satisfied: frozenlist>=1.1.1 in c:\\users\\sanya\\anaconda3\\lib\\site-packages (from aiohttp<4.0.0,>=3.8.3->langchain) (1.3.3)\n",
      "Requirement already satisfied: aiosignal>=1.1.2 in c:\\users\\sanya\\anaconda3\\lib\\site-packages (from aiohttp<4.0.0,>=3.8.3->langchain) (1.2.0)\n",
      "Requirement already satisfied: marshmallow<4.0.0,>=3.18.0 in c:\\users\\sanya\\anaconda3\\lib\\site-packages (from dataclasses-json<0.6.0,>=0.5.7->langchain) (3.20.1)\n",
      "Requirement already satisfied: typing-inspect<1,>=0.4.0 in c:\\users\\sanya\\anaconda3\\lib\\site-packages (from dataclasses-json<0.6.0,>=0.5.7->langchain) (0.9.0)\n",
      "Requirement already satisfied: annotated-types>=0.4.0 in c:\\users\\sanya\\anaconda3\\lib\\site-packages (from pydantic<3,>=1->langchain) (0.5.0)\n",
      "Requirement already satisfied: pydantic-core==2.6.3 in c:\\users\\sanya\\anaconda3\\lib\\site-packages (from pydantic<3,>=1->langchain) (2.6.3)\n",
      "Requirement already satisfied: typing-extensions>=4.6.1 in c:\\users\\sanya\\anaconda3\\lib\\site-packages (from pydantic<3,>=1->langchain) (4.7.1)\n",
      "Requirement already satisfied: idna<4,>=2.5 in c:\\users\\sanya\\anaconda3\\lib\\site-packages (from requests<3,>=2->langchain) (3.4)\n",
      "Requirement already satisfied: urllib3<3,>=1.21.1 in c:\\users\\sanya\\anaconda3\\lib\\site-packages (from requests<3,>=2->langchain) (1.26.16)\n",
      "Requirement already satisfied: certifi>=2017.4.17 in c:\\users\\sanya\\anaconda3\\lib\\site-packages (from requests<3,>=2->langchain) (2023.7.22)\n",
      "Requirement already satisfied: greenlet!=0.4.17 in c:\\users\\sanya\\anaconda3\\lib\\site-packages (from SQLAlchemy<3,>=1.4->langchain) (2.0.1)\n",
      "Requirement already satisfied: packaging>=17.0 in c:\\users\\sanya\\anaconda3\\lib\\site-packages (from marshmallow<4.0.0,>=3.18.0->dataclasses-json<0.6.0,>=0.5.7->langchain) (23.1)\n",
      "Requirement already satisfied: mypy-extensions>=0.3.0 in c:\\users\\sanya\\anaconda3\\lib\\site-packages (from typing-inspect<1,>=0.4.0->dataclasses-json<0.6.0,>=0.5.7->langchain) (0.4.3)\n"
     ]
    }
   ],
   "source": [
    "!pip install langchain"
   ]
  },
  {
   "cell_type": "code",
   "execution_count": 2,
   "id": "b2753476",
   "metadata": {},
   "outputs": [
    {
     "name": "stdout",
     "output_type": "stream",
     "text": [
      "Requirement already satisfied: pydantic in c:\\users\\sanya\\anaconda3\\lib\\site-packages (2.3.0)\n",
      "Requirement already satisfied: annotated-types>=0.4.0 in c:\\users\\sanya\\anaconda3\\lib\\site-packages (from pydantic) (0.5.0)\n",
      "Requirement already satisfied: pydantic-core==2.6.3 in c:\\users\\sanya\\anaconda3\\lib\\site-packages (from pydantic) (2.6.3)\n",
      "Requirement already satisfied: typing-extensions>=4.6.1 in c:\\users\\sanya\\anaconda3\\lib\\site-packages (from pydantic) (4.7.1)\n"
     ]
    }
   ],
   "source": [
    "!pip install pydantic"
   ]
  },
  {
   "cell_type": "code",
   "execution_count": 3,
   "id": "1c579d26",
   "metadata": {},
   "outputs": [
    {
     "name": "stdout",
     "output_type": "stream",
     "text": [
      "Collecting git+https://github.com/huggingface/transformers.git\n",
      "  Cloning https://github.com/huggingface/transformers.git to c:\\users\\sanya\\appdata\\local\\temp\\pip-req-build-j7yz02ug\n",
      "  Resolved https://github.com/huggingface/transformers.git to commit b4773273949b9360d1d38e51fc572340e0eda216\n",
      "  Installing build dependencies: started\n",
      "  Installing build dependencies: finished with status 'done'\n",
      "  Getting requirements to build wheel: started\n",
      "  Getting requirements to build wheel: finished with status 'done'\n",
      "  Preparing metadata (pyproject.toml): started\n",
      "  Preparing metadata (pyproject.toml): finished with status 'done'\n",
      "Requirement already satisfied: filelock in c:\\users\\sanya\\anaconda3\\lib\\site-packages (from transformers==4.34.0.dev0) (3.9.0)\n",
      "Requirement already satisfied: huggingface-hub<1.0,>=0.15.1 in c:\\users\\sanya\\anaconda3\\lib\\site-packages (from transformers==4.34.0.dev0) (0.17.1)\n",
      "Requirement already satisfied: numpy>=1.17 in c:\\users\\sanya\\anaconda3\\lib\\site-packages (from transformers==4.34.0.dev0) (1.24.3)\n",
      "Requirement already satisfied: packaging>=20.0 in c:\\users\\sanya\\anaconda3\\lib\\site-packages (from transformers==4.34.0.dev0) (23.1)\n",
      "Requirement already satisfied: pyyaml>=5.1 in c:\\users\\sanya\\anaconda3\\lib\\site-packages (from transformers==4.34.0.dev0) (6.0)\n",
      "Requirement already satisfied: regex!=2019.12.17 in c:\\users\\sanya\\anaconda3\\lib\\site-packages (from transformers==4.34.0.dev0) (2022.7.9)\n",
      "Requirement already satisfied: requests in c:\\users\\sanya\\anaconda3\\lib\\site-packages (from transformers==4.34.0.dev0) (2.31.0)\n",
      "Requirement already satisfied: tokenizers!=0.11.3,<0.14,>=0.11.1 in c:\\users\\sanya\\anaconda3\\lib\\site-packages (from transformers==4.34.0.dev0) (0.13.3)\n",
      "Requirement already satisfied: safetensors>=0.3.1 in c:\\users\\sanya\\anaconda3\\lib\\site-packages (from transformers==4.34.0.dev0) (0.3.3)\n",
      "Requirement already satisfied: tqdm>=4.27 in c:\\users\\sanya\\anaconda3\\lib\\site-packages (from transformers==4.34.0.dev0) (4.65.0)\n",
      "Requirement already satisfied: fsspec in c:\\users\\sanya\\anaconda3\\lib\\site-packages (from huggingface-hub<1.0,>=0.15.1->transformers==4.34.0.dev0) (2023.4.0)\n",
      "Requirement already satisfied: typing-extensions>=3.7.4.3 in c:\\users\\sanya\\anaconda3\\lib\\site-packages (from huggingface-hub<1.0,>=0.15.1->transformers==4.34.0.dev0) (4.7.1)\n",
      "Requirement already satisfied: colorama in c:\\users\\sanya\\anaconda3\\lib\\site-packages (from tqdm>=4.27->transformers==4.34.0.dev0) (0.4.6)\n",
      "Requirement already satisfied: charset-normalizer<4,>=2 in c:\\users\\sanya\\anaconda3\\lib\\site-packages (from requests->transformers==4.34.0.dev0) (2.0.4)\n",
      "Requirement already satisfied: idna<4,>=2.5 in c:\\users\\sanya\\anaconda3\\lib\\site-packages (from requests->transformers==4.34.0.dev0) (3.4)\n",
      "Requirement already satisfied: urllib3<3,>=1.21.1 in c:\\users\\sanya\\anaconda3\\lib\\site-packages (from requests->transformers==4.34.0.dev0) (1.26.16)\n",
      "Requirement already satisfied: certifi>=2017.4.17 in c:\\users\\sanya\\anaconda3\\lib\\site-packages (from requests->transformers==4.34.0.dev0) (2023.7.22)\n"
     ]
    },
    {
     "name": "stderr",
     "output_type": "stream",
     "text": [
      "  Running command git clone --filter=blob:none --quiet https://github.com/huggingface/transformers.git 'C:\\Users\\sanya\\AppData\\Local\\Temp\\pip-req-build-j7yz02ug'\n"
     ]
    }
   ],
   "source": [
    "!pip install -U git+https://github.com/huggingface/transformers.git"
   ]
  },
  {
   "cell_type": "code",
   "execution_count": 4,
   "id": "d409ab5f",
   "metadata": {},
   "outputs": [
    {
     "name": "stdout",
     "output_type": "stream",
     "text": [
      "Collecting git+https://github.com/huggingface/accelerate.git\n",
      "  Cloning https://github.com/huggingface/accelerate.git to c:\\users\\sanya\\appdata\\local\\temp\\pip-req-build-ia4c05ul\n",
      "  Resolved https://github.com/huggingface/accelerate.git to commit 5d558f21e27744491219002a375e158eee987e0c\n",
      "  Installing build dependencies: started\n",
      "  Installing build dependencies: finished with status 'done'\n",
      "  Getting requirements to build wheel: started\n",
      "  Getting requirements to build wheel: finished with status 'done'\n",
      "  Preparing metadata (pyproject.toml): started\n",
      "  Preparing metadata (pyproject.toml): finished with status 'done'\n",
      "Requirement already satisfied: numpy>=1.17 in c:\\users\\sanya\\anaconda3\\lib\\site-packages (from accelerate==0.23.0.dev0) (1.24.3)\n",
      "Requirement already satisfied: packaging>=20.0 in c:\\users\\sanya\\anaconda3\\lib\\site-packages (from accelerate==0.23.0.dev0) (23.1)\n",
      "Requirement already satisfied: psutil in c:\\users\\sanya\\anaconda3\\lib\\site-packages (from accelerate==0.23.0.dev0) (5.9.0)\n",
      "Requirement already satisfied: pyyaml in c:\\users\\sanya\\anaconda3\\lib\\site-packages (from accelerate==0.23.0.dev0) (6.0)\n",
      "Requirement already satisfied: torch>=1.10.0 in c:\\users\\sanya\\anaconda3\\lib\\site-packages (from accelerate==0.23.0.dev0) (2.0.1)\n",
      "Requirement already satisfied: huggingface-hub in c:\\users\\sanya\\anaconda3\\lib\\site-packages (from accelerate==0.23.0.dev0) (0.17.1)\n",
      "Requirement already satisfied: filelock in c:\\users\\sanya\\anaconda3\\lib\\site-packages (from torch>=1.10.0->accelerate==0.23.0.dev0) (3.9.0)\n",
      "Requirement already satisfied: typing-extensions in c:\\users\\sanya\\anaconda3\\lib\\site-packages (from torch>=1.10.0->accelerate==0.23.0.dev0) (4.7.1)\n",
      "Requirement already satisfied: sympy in c:\\users\\sanya\\anaconda3\\lib\\site-packages (from torch>=1.10.0->accelerate==0.23.0.dev0) (1.11.1)\n",
      "Requirement already satisfied: networkx in c:\\users\\sanya\\anaconda3\\lib\\site-packages (from torch>=1.10.0->accelerate==0.23.0.dev0) (3.1)\n",
      "Requirement already satisfied: jinja2 in c:\\users\\sanya\\anaconda3\\lib\\site-packages (from torch>=1.10.0->accelerate==0.23.0.dev0) (3.1.2)\n",
      "Requirement already satisfied: fsspec in c:\\users\\sanya\\anaconda3\\lib\\site-packages (from huggingface-hub->accelerate==0.23.0.dev0) (2023.4.0)\n",
      "Requirement already satisfied: requests in c:\\users\\sanya\\anaconda3\\lib\\site-packages (from huggingface-hub->accelerate==0.23.0.dev0) (2.31.0)\n",
      "Requirement already satisfied: tqdm>=4.42.1 in c:\\users\\sanya\\anaconda3\\lib\\site-packages (from huggingface-hub->accelerate==0.23.0.dev0) (4.65.0)\n",
      "Requirement already satisfied: colorama in c:\\users\\sanya\\anaconda3\\lib\\site-packages (from tqdm>=4.42.1->huggingface-hub->accelerate==0.23.0.dev0) (0.4.6)\n",
      "Requirement already satisfied: MarkupSafe>=2.0 in c:\\users\\sanya\\anaconda3\\lib\\site-packages (from jinja2->torch>=1.10.0->accelerate==0.23.0.dev0) (2.1.1)\n",
      "Requirement already satisfied: charset-normalizer<4,>=2 in c:\\users\\sanya\\anaconda3\\lib\\site-packages (from requests->huggingface-hub->accelerate==0.23.0.dev0) (2.0.4)\n",
      "Requirement already satisfied: idna<4,>=2.5 in c:\\users\\sanya\\anaconda3\\lib\\site-packages (from requests->huggingface-hub->accelerate==0.23.0.dev0) (3.4)\n",
      "Requirement already satisfied: urllib3<3,>=1.21.1 in c:\\users\\sanya\\anaconda3\\lib\\site-packages (from requests->huggingface-hub->accelerate==0.23.0.dev0) (1.26.16)\n",
      "Requirement already satisfied: certifi>=2017.4.17 in c:\\users\\sanya\\anaconda3\\lib\\site-packages (from requests->huggingface-hub->accelerate==0.23.0.dev0) (2023.7.22)\n",
      "Requirement already satisfied: mpmath>=0.19 in c:\\users\\sanya\\anaconda3\\lib\\site-packages (from sympy->torch>=1.10.0->accelerate==0.23.0.dev0) (1.3.0)\n"
     ]
    },
    {
     "name": "stderr",
     "output_type": "stream",
     "text": [
      "  Running command git clone --filter=blob:none --quiet https://github.com/huggingface/accelerate.git 'C:\\Users\\sanya\\AppData\\Local\\Temp\\pip-req-build-ia4c05ul'\n"
     ]
    }
   ],
   "source": [
    "!pip install -U git+https://github.com/huggingface/accelerate.git"
   ]
  },
  {
   "cell_type": "code",
   "execution_count": 5,
   "id": "26728c93",
   "metadata": {},
   "outputs": [
    {
     "name": "stdout",
     "output_type": "stream",
     "text": [
      "Requirement already satisfied: einops in c:\\users\\sanya\\anaconda3\\lib\\site-packages (0.6.1)\n"
     ]
    }
   ],
   "source": [
    "!pip install einops"
   ]
  },
  {
   "cell_type": "code",
   "execution_count": 6,
   "id": "db9baa6b",
   "metadata": {},
   "outputs": [],
   "source": [
    "import torch\n",
    "from transformers import AutoModelForCausalLM, AutoTokenizer, pipeline"
   ]
  },
  {
   "cell_type": "code",
   "execution_count": 8,
   "id": "4eab31a7",
   "metadata": {},
   "outputs": [
    {
     "name": "stderr",
     "output_type": "stream",
     "text": [
      "The model weights are not tied. Please use the `tie_weights` method before using the `infer_auto_device` function.\n"
     ]
    },
    {
     "name": "stdout",
     "output_type": "stream",
     "text": [
      "Instantiating an MPTForCausalLM model from C:\\Users\\sanya/.cache\\huggingface\\modules\\transformers_modules\\mosaicml\\mpt-7b-chat\\64e5c9c9fb53a8e89690c2dee75a5add37f7113e\\modeling_mpt.py\n",
      "You are using config.init_device='cpu', but you can also use config.init_device=\"meta\" with Composer + FSDP for fast initialization.\n"
     ]
    },
    {
     "data": {
      "application/vnd.jupyter.widget-view+json": {
       "model_id": "d209851d7c104e729dfcea771d761504",
       "version_major": 2,
       "version_minor": 0
      },
      "text/plain": [
       "Loading checkpoint shards:   0%|          | 0/2 [00:00<?, ?it/s]"
      ]
     },
     "metadata": {},
     "output_type": "display_data"
    }
   ],
   "source": [
    "tokenizer = AutoTokenizer.from_pretrained('EleutherAI/gpt-neox-20b')\n",
    "\n",
    "model = AutoModelForCausalLM.from_pretrained(\n",
    "  'mosaicml/mpt-7b-chat',\n",
    "  torch_dtype=torch.bfloat16,\n",
    "  device_map=\"auto\",\n",
    "  trust_remote_code=True,\n",
    "  offload_folder=\"offload\",\n",
    ")"
   ]
  },
  {
   "cell_type": "code",
   "execution_count": 9,
   "id": "e1839895",
   "metadata": {},
   "outputs": [],
   "source": [
    "pipe = pipeline('text-generation', model=model, tokenizer=tokenizer, max_new_tokens=70)"
   ]
  },
  {
   "cell_type": "code",
   "execution_count": 10,
   "id": "b7ccca47",
   "metadata": {},
   "outputs": [],
   "source": [
    "from langchain.prompts import PromptTemplate\n",
    "from langchain.chains import LLMChain\n",
    "from langchain.llms import HuggingFacePipeline"
   ]
  },
  {
   "cell_type": "code",
   "execution_count": 11,
   "id": "23ebf827",
   "metadata": {},
   "outputs": [],
   "source": [
    "local_llm = HuggingFacePipeline(pipeline=pipe)"
   ]
  },
  {
   "cell_type": "code",
   "execution_count": 14,
   "id": "76d686f2",
   "metadata": {},
   "outputs": [],
   "source": [
    "prompt_template = PromptTemplate(\n",
    "    input_variables=[\"product\"],\n",
    "    template=\"Given a {product} with a single login button. Write test scenarios about the {product}?\",\n",
    ")"
   ]
  },
  {
   "cell_type": "code",
   "execution_count": 15,
   "id": "8e04caab",
   "metadata": {},
   "outputs": [],
   "source": [
    "chain = LLMChain(llm=local_llm, prompt=prompt_template)"
   ]
  },
  {
   "cell_type": "code",
   "execution_count": null,
   "id": "afa15b25",
   "metadata": {},
   "outputs": [
    {
     "name": "stderr",
     "output_type": "stream",
     "text": [
      "C:\\Users\\sanya\\anaconda3\\Lib\\site-packages\\transformers\\generation\\utils.py:1421: UserWarning: You have modified the pretrained model configuration to control generation. This is a deprecated strategy to control generation and will be removed soon, in a future version. Please use and modify the model generation configuration (see https://huggingface.co/docs/transformers/generation_strategies#default-text-generation-configuration )\n",
      "  warnings.warn(\n"
     ]
    }
   ],
   "source": [
    "print(chain.run(\"web application\"))"
   ]
  },
  {
   "cell_type": "code",
   "execution_count": null,
   "id": "f5807762",
   "metadata": {},
   "outputs": [],
   "source": []
  }
 ],
 "metadata": {
  "kernelspec": {
   "display_name": "Python 3 (ipykernel)",
   "language": "python",
   "name": "python3"
  },
  "language_info": {
   "codemirror_mode": {
    "name": "ipython",
    "version": 3
   },
   "file_extension": ".py",
   "mimetype": "text/x-python",
   "name": "python",
   "nbconvert_exporter": "python",
   "pygments_lexer": "ipython3",
   "version": "3.11.4"
  }
 },
 "nbformat": 4,
 "nbformat_minor": 5
}
